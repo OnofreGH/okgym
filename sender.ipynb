{
 "cells": [
  {
   "cell_type": "code",
   "execution_count": null,
   "metadata": {},
   "outputs": [],
   "source": [
    "%pip install pandas\n",
    "%pip install openpyxl\n",
    "%pip install webbrowser\n",
    "%pip install pyautogui"
   ]
  },
  {
   "cell_type": "code",
   "execution_count": 2,
   "metadata": {},
   "outputs": [],
   "source": [
    "import pandas as pd\n",
    "import webbrowser as web\n",
    "import pyautogui as pg\n",
    "import time"
   ]
  },
  {
   "cell_type": "code",
   "execution_count": null,
   "metadata": {},
   "outputs": [],
   "source": []
  },
  {
   "cell_type": "code",
   "execution_count": 4,
   "metadata": {},
   "outputs": [],
   "source": [
    "data = pd.read_excel(\"Clientes.xlsx\", sheet_name='Ventas')\n",
    "data.head(3)\n",
    "\n",
    "for i in range(len(data)):\n",
    "    celular = data.loc[i,'Celular'].astype(str)\n",
    "    nombre = data.loc[i,'Nombre']\n",
    "    producto = data.loc[i,'Producto']\n",
    "    \n",
    "    mensaje = \"Hola, \" + nombre + \"! Gracias por comprar \" + producto + \" con nosotros\"\n",
    "    \n",
    "    chrome_path = 'C:/Program Files/Google/Chrome/Application/chrome.exe %s'\n",
    "    web.get(chrome_path).open(\"https://web.whatsapp.com/send?phone=\" + celular + \"&text=\" + mensaje)\n",
    "    \n",
    "    time.sleep(8)          \n",
    "    pg.click(828,700)     \n",
    "    time.sleep(2)         \n",
    "    pg.press('enter')     \n",
    "    time.sleep(3)       \n",
    "    pg.hotkey('ctrl', 'w')  \n",
    "    time.sleep(2)"
   ]
  },
  {
   "cell_type": "code",
   "execution_count": null,
   "metadata": {},
   "outputs": [],
   "source": []
  }
 ],
 "metadata": {
  "kernelspec": {
   "display_name": "Python 3",
   "language": "python",
   "name": "python3"
  },
  "language_info": {
   "codemirror_mode": {
    "name": "ipython",
    "version": 3
   },
   "file_extension": ".py",
   "mimetype": "text/x-python",
   "name": "python",
   "nbconvert_exporter": "python",
   "pygments_lexer": "ipython3",
   "version": "3.11.9"
  }
 },
 "nbformat": 4,
 "nbformat_minor": 2
}
